{
 "cells": [
  {
   "cell_type": "code",
   "execution_count": 2,
   "id": "aeaa6237-902c-42db-9789-0e9c6f852a9f",
   "metadata": {},
   "outputs": [],
   "source": [
    "import pandas as pd"
   ]
  },
  {
   "cell_type": "code",
   "execution_count": 3,
   "id": "73d3735d-e213-4f39-950b-c8d342f41e74",
   "metadata": {},
   "outputs": [],
   "source": [
    "import numpy as np"
   ]
  },
  {
   "cell_type": "code",
   "execution_count": 22,
   "id": "b4ce2340-d685-4a1b-8263-4e3c44b14f06",
   "metadata": {},
   "outputs": [],
   "source": [
    "import matplotlib.pyplot as plt"
   ]
  },
  {
   "cell_type": "code",
   "execution_count": 4,
   "id": "c5ae8f43-7fa6-4ec6-bf7f-c3b4378a69f8",
   "metadata": {},
   "outputs": [],
   "source": [
    "dtype_dict = {\n",
    "    \"fare_amount\": \"float32\",\n",
    "    \"pickup_longitude\": \"float32\",\n",
    "    \"pickup_latitude\": \"float32\",\n",
    "    \"dropoff_longitude\": \"float32\",\n",
    "    \"dropoff_latitude\": \"float32\",\n",
    "    \"passenger_count\": \"int8\"\n",
    "}"
   ]
  },
  {
   "cell_type": "code",
   "execution_count": 5,
   "id": "5b3eb7b0-9e5b-4c97-98eb-058121192325",
   "metadata": {},
   "outputs": [],
   "source": [
    "# 데이터 불러오기\n",
    "file_path = \"C://Users/302-24/Downloads/new-york-city-taxi-fare-prediction/train.csv\"\n",
    "df = pd.read_csv(file_path, dtype=dtype_dict)"
   ]
  },
  {
   "cell_type": "code",
   "execution_count": 6,
   "id": "992e4cdd-4a9b-4b15-a74d-82edf7cd058b",
   "metadata": {},
   "outputs": [
    {
     "name": "stdout",
     "output_type": "stream",
     "text": [
      "                             key  fare_amount          pickup_datetime  \\\n",
      "0    2009-06-15 17:26:21.0000001          4.5  2009-06-15 17:26:21 UTC   \n",
      "1    2010-01-05 16:52:16.0000002         16.9  2010-01-05 16:52:16 UTC   \n",
      "2   2011-08-18 00:35:00.00000049          5.7  2011-08-18 00:35:00 UTC   \n",
      "3    2012-04-21 04:30:42.0000001          7.7  2012-04-21 04:30:42 UTC   \n",
      "4  2010-03-09 07:51:00.000000135          5.3  2010-03-09 07:51:00 UTC   \n",
      "\n",
      "   pickup_longitude  pickup_latitude  dropoff_longitude  dropoff_latitude  \\\n",
      "0        -73.844315        40.721317         -73.841614         40.712276   \n",
      "1        -74.016045        40.711304         -73.979271         40.782005   \n",
      "2        -73.982735        40.761269         -73.991241         40.750561   \n",
      "3        -73.987129        40.733143         -73.991570         40.758091   \n",
      "4        -73.968094        40.768009         -73.956657         40.783764   \n",
      "\n",
      "   passenger_count  \n",
      "0                1  \n",
      "1                1  \n",
      "2                2  \n",
      "3                1  \n",
      "4                1  \n"
     ]
    }
   ],
   "source": [
    "print(df.head())"
   ]
  },
  {
   "cell_type": "code",
   "execution_count": 7,
   "id": "cfdc2b30-e592-4e84-a38c-90edd10620b5",
   "metadata": {},
   "outputs": [
    {
     "name": "stdout",
     "output_type": "stream",
     "text": [
      "<class 'pandas.core.frame.DataFrame'>\n",
      "RangeIndex: 55423856 entries, 0 to 55423855\n",
      "Data columns (total 8 columns):\n",
      " #   Column             Dtype  \n",
      "---  ------             -----  \n",
      " 0   key                object \n",
      " 1   fare_amount        float32\n",
      " 2   pickup_datetime    object \n",
      " 3   pickup_longitude   float32\n",
      " 4   pickup_latitude    float32\n",
      " 5   dropoff_longitude  float32\n",
      " 6   dropoff_latitude   float32\n",
      " 7   passenger_count    int8   \n",
      "dtypes: float32(5), int8(1), object(2)\n",
      "memory usage: 1.9+ GB\n",
      "None\n"
     ]
    }
   ],
   "source": [
    "print(df.info())  # 메모리 사용량 줄어든 것 확인 가능"
   ]
  },
  {
   "cell_type": "code",
   "execution_count": 8,
   "id": "3767c312-490c-4721-8d2d-5cfadba8b2f7",
   "metadata": {},
   "outputs": [
    {
     "name": "stdout",
     "output_type": "stream",
     "text": [
      "(55423856, 8)\n"
     ]
    }
   ],
   "source": [
    "print(df.shape)  # (행 개수, 열 개수)"
   ]
  },
  {
   "cell_type": "code",
   "execution_count": 38,
   "id": "e0621498-4ef4-435b-ad8e-15c280cbaf69",
   "metadata": {},
   "outputs": [
    {
     "name": "stdout",
     "output_type": "stream",
     "text": [
      "(50000, 8)\n"
     ]
    }
   ],
   "source": [
    "# 랜덤하게 50,000개 샘플링\n",
    "\n",
    "df_sample = df.sample(n=50000, random_state=42)\n",
    "print(df_sample.shape)"
   ]
  },
  {
   "cell_type": "code",
   "execution_count": 39,
   "id": "7fbf1787-57f9-40b5-84f9-142aec724fd6",
   "metadata": {},
   "outputs": [
    {
     "name": "stdout",
     "output_type": "stream",
     "text": [
      "key                  0\n",
      "fare_amount          0\n",
      "pickup_datetime      0\n",
      "pickup_longitude     0\n",
      "pickup_latitude      0\n",
      "dropoff_longitude    0\n",
      "dropoff_latitude     0\n",
      "passenger_count      0\n",
      "dtype: int64\n"
     ]
    }
   ],
   "source": [
    "# 결측치 확인 및 처리\n",
    "print(df_sample.isnull().sum())"
   ]
  },
  {
   "cell_type": "code",
   "execution_count": 40,
   "id": "db5a6385-54f8-47ba-a1e1-2170bd46cb13",
   "metadata": {},
   "outputs": [],
   "source": [
    "# 결측치가 있는 행 제거 (필요하면 다른 방법 사용 가능)"
   ]
  },
  {
   "cell_type": "code",
   "execution_count": 41,
   "id": "0b7f71ce-e4c9-4508-9182-d0615a58f32f",
   "metadata": {},
   "outputs": [],
   "source": [
    "df = df_sample.dropna()"
   ]
  },
  {
   "cell_type": "code",
   "execution_count": 42,
   "id": "0fb3eb75-2147-4e45-b290-1b96a5da8d58",
   "metadata": {},
   "outputs": [
    {
     "name": "stdout",
     "output_type": "stream",
     "text": [
      "key                  0\n",
      "fare_amount          0\n",
      "pickup_datetime      0\n",
      "pickup_longitude     0\n",
      "pickup_latitude      0\n",
      "dropoff_longitude    0\n",
      "dropoff_latitude     0\n",
      "passenger_count      0\n",
      "dtype: int64\n"
     ]
    }
   ],
   "source": [
    "# 결측치 확인 및 처리\n",
    "print(df_sample.isnull().sum())"
   ]
  },
  {
   "cell_type": "code",
   "execution_count": 76,
   "id": "34801a44-70fd-4136-bdc4-b2a06df7b5b6",
   "metadata": {},
   "outputs": [
    {
     "data": {
      "text/html": [
       "<div>\n",
       "<style scoped>\n",
       "    .dataframe tbody tr th:only-of-type {\n",
       "        vertical-align: middle;\n",
       "    }\n",
       "\n",
       "    .dataframe tbody tr th {\n",
       "        vertical-align: top;\n",
       "    }\n",
       "\n",
       "    .dataframe thead th {\n",
       "        text-align: right;\n",
       "    }\n",
       "</style>\n",
       "<table border=\"1\" class=\"dataframe\">\n",
       "  <thead>\n",
       "    <tr style=\"text-align: right;\">\n",
       "      <th></th>\n",
       "      <th>key</th>\n",
       "      <th>fare_amount</th>\n",
       "      <th>pickup_longitude</th>\n",
       "      <th>pickup_latitude</th>\n",
       "      <th>dropoff_longitude</th>\n",
       "      <th>dropoff_latitude</th>\n",
       "      <th>passenger_count</th>\n",
       "      <th>trip_distance_miles</th>\n",
       "      <th>log_trip_distance</th>\n",
       "      <th>pickup_hour</th>\n",
       "      <th>pickup_dayofweek</th>\n",
       "      <th>fare_predicted</th>\n",
       "    </tr>\n",
       "  </thead>\n",
       "  <tbody>\n",
       "    <tr>\n",
       "      <th>count</th>\n",
       "      <td>49790</td>\n",
       "      <td>49790.000000</td>\n",
       "      <td>49790.000000</td>\n",
       "      <td>49790.000000</td>\n",
       "      <td>49790.000000</td>\n",
       "      <td>49790.000000</td>\n",
       "      <td>49790.000000</td>\n",
       "      <td>49790.000000</td>\n",
       "      <td>49790.000000</td>\n",
       "      <td>49790.000000</td>\n",
       "      <td>49790.000000</td>\n",
       "      <td>49790.000000</td>\n",
       "    </tr>\n",
       "    <tr>\n",
       "      <th>mean</th>\n",
       "      <td>2012-03-19 00:34:00.456497920</td>\n",
       "      <td>11.291172</td>\n",
       "      <td>-72.565409</td>\n",
       "      <td>39.948290</td>\n",
       "      <td>-72.575580</td>\n",
       "      <td>39.902151</td>\n",
       "      <td>1.679976</td>\n",
       "      <td>13.249204</td>\n",
       "      <td>0.955437</td>\n",
       "      <td>13.452039</td>\n",
       "      <td>3.031472</td>\n",
       "      <td>11.291713</td>\n",
       "    </tr>\n",
       "    <tr>\n",
       "      <th>min</th>\n",
       "      <td>2009-01-01 00:53:26.000000300</td>\n",
       "      <td>0.010000</td>\n",
       "      <td>-735.483332</td>\n",
       "      <td>-74.008970</td>\n",
       "      <td>-90.239125</td>\n",
       "      <td>-3114.304848</td>\n",
       "      <td>1.000000</td>\n",
       "      <td>0.000000</td>\n",
       "      <td>0.000000</td>\n",
       "      <td>0.000000</td>\n",
       "      <td>0.000000</td>\n",
       "      <td>2.138362</td>\n",
       "    </tr>\n",
       "    <tr>\n",
       "      <th>25%</th>\n",
       "      <td>2010-08-16 10:17:45.000000512</td>\n",
       "      <td>6.000000</td>\n",
       "      <td>-73.992230</td>\n",
       "      <td>40.734634</td>\n",
       "      <td>-73.991554</td>\n",
       "      <td>40.733986</td>\n",
       "      <td>1.000000</td>\n",
       "      <td>0.757084</td>\n",
       "      <td>0.563655</td>\n",
       "      <td>9.000000</td>\n",
       "      <td>1.000000</td>\n",
       "      <td>7.637858</td>\n",
       "    </tr>\n",
       "    <tr>\n",
       "      <th>50%</th>\n",
       "      <td>2012-03-16 18:35:30.000000256</td>\n",
       "      <td>8.500000</td>\n",
       "      <td>-73.981936</td>\n",
       "      <td>40.752723</td>\n",
       "      <td>-73.980119</td>\n",
       "      <td>40.753097</td>\n",
       "      <td>1.000000</td>\n",
       "      <td>1.317992</td>\n",
       "      <td>0.840701</td>\n",
       "      <td>14.000000</td>\n",
       "      <td>3.000000</td>\n",
       "      <td>10.220848</td>\n",
       "    </tr>\n",
       "    <tr>\n",
       "      <th>75%</th>\n",
       "      <td>2013-10-15 08:52:45.000000512</td>\n",
       "      <td>12.500000</td>\n",
       "      <td>-73.967233</td>\n",
       "      <td>40.767197</td>\n",
       "      <td>-73.963879</td>\n",
       "      <td>40.768018</td>\n",
       "      <td>2.000000</td>\n",
       "      <td>2.414292</td>\n",
       "      <td>1.227970</td>\n",
       "      <td>19.000000</td>\n",
       "      <td>5.000000</td>\n",
       "      <td>13.829033</td>\n",
       "    </tr>\n",
       "    <tr>\n",
       "      <th>max</th>\n",
       "      <td>2015-06-30 22:43:38.000000100</td>\n",
       "      <td>165.000000</td>\n",
       "      <td>40.808197</td>\n",
       "      <td>47.890090</td>\n",
       "      <td>40.814702</td>\n",
       "      <td>401.900000</td>\n",
       "      <td>6.000000</td>\n",
       "      <td>5394.349978</td>\n",
       "      <td>8.593293</td>\n",
       "      <td>23.000000</td>\n",
       "      <td>6.000000</td>\n",
       "      <td>82.796410</td>\n",
       "    </tr>\n",
       "    <tr>\n",
       "      <th>std</th>\n",
       "      <td>NaN</td>\n",
       "      <td>9.497894</td>\n",
       "      <td>10.705446</td>\n",
       "      <td>6.055897</td>\n",
       "      <td>10.202026</td>\n",
       "      <td>15.453452</td>\n",
       "      <td>1.296142</td>\n",
       "      <td>239.032480</td>\n",
       "      <td>0.645582</td>\n",
       "      <td>6.521378</td>\n",
       "      <td>1.952887</td>\n",
       "      <td>6.027068</td>\n",
       "    </tr>\n",
       "  </tbody>\n",
       "</table>\n",
       "</div>"
      ],
      "text/plain": [
       "                                 key   fare_amount  pickup_longitude  \\\n",
       "count                          49790  49790.000000      49790.000000   \n",
       "mean   2012-03-19 00:34:00.456497920     11.291172        -72.565409   \n",
       "min    2009-01-01 00:53:26.000000300      0.010000       -735.483332   \n",
       "25%    2010-08-16 10:17:45.000000512      6.000000        -73.992230   \n",
       "50%    2012-03-16 18:35:30.000000256      8.500000        -73.981936   \n",
       "75%    2013-10-15 08:52:45.000000512     12.500000        -73.967233   \n",
       "max    2015-06-30 22:43:38.000000100    165.000000         40.808197   \n",
       "std                              NaN      9.497894         10.705446   \n",
       "\n",
       "       pickup_latitude  dropoff_longitude  dropoff_latitude  passenger_count  \\\n",
       "count     49790.000000       49790.000000      49790.000000     49790.000000   \n",
       "mean         39.948290         -72.575580         39.902151         1.679976   \n",
       "min         -74.008970         -90.239125      -3114.304848         1.000000   \n",
       "25%          40.734634         -73.991554         40.733986         1.000000   \n",
       "50%          40.752723         -73.980119         40.753097         1.000000   \n",
       "75%          40.767197         -73.963879         40.768018         2.000000   \n",
       "max          47.890090          40.814702        401.900000         6.000000   \n",
       "std           6.055897          10.202026         15.453452         1.296142   \n",
       "\n",
       "       trip_distance_miles  log_trip_distance   pickup_hour  pickup_dayofweek  \\\n",
       "count         49790.000000       49790.000000  49790.000000      49790.000000   \n",
       "mean             13.249204           0.955437     13.452039          3.031472   \n",
       "min               0.000000           0.000000      0.000000          0.000000   \n",
       "25%               0.757084           0.563655      9.000000          1.000000   \n",
       "50%               1.317992           0.840701     14.000000          3.000000   \n",
       "75%               2.414292           1.227970     19.000000          5.000000   \n",
       "max            5394.349978           8.593293     23.000000          6.000000   \n",
       "std             239.032480           0.645582      6.521378          1.952887   \n",
       "\n",
       "       fare_predicted  \n",
       "count    49790.000000  \n",
       "mean        11.291713  \n",
       "min          2.138362  \n",
       "25%          7.637858  \n",
       "50%         10.220848  \n",
       "75%         13.829033  \n",
       "max         82.796410  \n",
       "std          6.027068  "
      ]
     },
     "execution_count": 76,
     "metadata": {},
     "output_type": "execute_result"
    }
   ],
   "source": [
    "df_sample.describe()"
   ]
  },
  {
   "cell_type": "code",
   "execution_count": 49,
   "id": "e4d5d894-1dcb-463c-907d-03864f4a9e91",
   "metadata": {},
   "outputs": [],
   "source": [
    "# 데이터 타입 변환 (날짜)\n",
    "if 'pickup_datetime' in df_sample.columns:\n",
    "    df['pickup_datetime'] = pd.to_datetime(df_sample['pickup_datetime'])"
   ]
  },
  {
   "cell_type": "code",
   "execution_count": null,
   "id": "601b80e2-04f5-4ab2-93ed-6ef586ef9f9d",
   "metadata": {},
   "outputs": [],
   "source": []
  },
  {
   "cell_type": "code",
   "execution_count": 51,
   "id": "3a850196-10e9-4f93-b678-ea770031c408",
   "metadata": {},
   "outputs": [],
   "source": [
    "# 필요한 컬럼 추출\n",
    "\n",
    "lat1 = df_sample[\"pickup_latitude\"]\n",
    "lon1 = df_sample[\"pickup_longitude\"]\n",
    "lat2 = df_sample[\"dropoff_latitude\"]\n",
    "lon2 = df_sample[\"dropoff_longitude\"]"
   ]
  },
  {
   "cell_type": "code",
   "execution_count": 52,
   "id": "0e994fdf-27bd-46b8-8772-f225f607b683",
   "metadata": {},
   "outputs": [],
   "source": [
    "import numpy as np\n",
    "\n",
    "def haversine_np(lat1, lon1, lat2, lon2):\n",
    "    R = 3959  # 지구 반지름 (마일)\n",
    "    \n",
    "    lat1, lon1, lat2, lon2 = map(np.radians, [lat1, lon1, lat2, lon2])\n",
    "    \n",
    "    dlat = lat2 - lat1\n",
    "    dlon = lon2 - lon1\n",
    "    \n",
    "    a = np.sin(dlat / 2) ** 2 + np.cos(lat1) * np.cos(lat2) * np.sin(dlon / 2) ** 2\n",
    "    c = 2 * np.arcsin(np.sqrt(a))\n",
    "    \n",
    "    return R * c\n",
    "\n",
    "# 벡터 연산을 이용한 거리 계산\n",
    "df_sample[\"trip_distance_miles\"] = haversine_np(df_sample[\"pickup_latitude\"].to_numpy(),\n",
    "                                         df_sample[\"pickup_longitude\"].to_numpy(),\n",
    "                                         df_sample[\"dropoff_latitude\"].to_numpy(),\n",
    "                                         df_sample[\"dropoff_longitude\"].to_numpy())"
   ]
  },
  {
   "cell_type": "code",
   "execution_count": 55,
   "id": "1321abba-a408-4de5-9baa-5d44e72afb65",
   "metadata": {},
   "outputs": [
    {
     "name": "stdout",
     "output_type": "stream",
     "text": [
      "Index(['key', 'fare_amount', 'pickup_datetime', 'pickup_longitude',\n",
      "       'pickup_latitude', 'dropoff_longitude', 'dropoff_latitude',\n",
      "       'passenger_count', 'trip_distance_miles'],\n",
      "      dtype='object')\n"
     ]
    }
   ],
   "source": [
    "print(df_sample.columns)  # 현재 데이터프레임의 컬럼 목록 출력"
   ]
  },
  {
   "cell_type": "code",
   "execution_count": 58,
   "id": "bb197d0f-ec62-437b-9fcf-3def48c70935",
   "metadata": {},
   "outputs": [
    {
     "name": "stdout",
     "output_type": "stream",
     "text": [
      "          trip_distance_miles  log_trip_distance\n",
      "10478479             0.416460           0.348161\n",
      "2240033              0.933263           0.659209\n",
      "24966385             0.347873           0.298528\n",
      "38721384             8.125229           2.211043\n",
      "41464765             1.971073           1.088923\n",
      "37752606             0.476506           0.389679\n",
      "45028673             0.808277           0.592375\n",
      "21489360             2.258485           1.181262\n",
      "22628060             4.191039           1.646934\n",
      "2187925              0.974062           0.680093\n"
     ]
    }
   ],
   "source": [
    "import numpy as np\n",
    "\n",
    "# 로그 변환된 거리 추가 (log(1 + x) 사용)\n",
    "df_sample[\"log_trip_distance\"] = np.log1p(df_sample[\"trip_distance_miles\"])\n",
    "\n",
    "# 변환된 값 확인\n",
    "print(df_sample[[\"trip_distance_miles\", \"log_trip_distance\"]].head(10))"
   ]
  },
  {
   "cell_type": "code",
   "execution_count": 61,
   "id": "83a6c5c2-c066-41d0-86bb-aa07e4209530",
   "metadata": {},
   "outputs": [
    {
     "name": "stdout",
     "output_type": "stream",
     "text": [
      "Collecting ace_tools\n",
      "  Downloading ace_tools-0.0-py3-none-any.whl.metadata (300 bytes)\n",
      "Downloading ace_tools-0.0-py3-none-any.whl (1.1 kB)\n",
      "Installing collected packages: ace_tools\n",
      "Successfully installed ace_tools-0.0\n",
      "Note: you may need to restart the kernel to use updated packages.\n"
     ]
    }
   ],
   "source": [
    "pip install ace_tools"
   ]
  },
  {
   "cell_type": "code",
   "execution_count": 63,
   "id": "a151f050-109c-43e4-8f01-6e4759f32024",
   "metadata": {},
   "outputs": [
    {
     "name": "stdout",
     "output_type": "stream",
     "text": [
      "                                   key  fare_amount          pickup_datetime  \\\n",
      "10478479 2010-01-16 20:06:00.000000168          3.3  2010-01-16 20:06:00 UTC   \n",
      "2240033  2010-09-22 23:21:00.000000650          6.5  2010-09-22 23:21:00 UTC   \n",
      "24966385 2013-10-17 18:40:14.000000100          5.0  2013-10-17 18:40:14 UTC   \n",
      "38721384 2015-06-09 19:39:42.000000900         40.5  2015-06-09 19:39:42 UTC   \n",
      "41464765 2012-05-01 07:16:59.000000100          7.7  2012-05-01 07:16:59 UTC   \n",
      "...                                ...          ...                      ...   \n",
      "35812679 2014-10-26 13:54:00.000000160         15.5  2014-10-26 13:54:00 UTC   \n",
      "24158073 2012-08-04 22:11:00.000000330          8.5  2012-08-04 22:11:00 UTC   \n",
      "36392851 2014-11-16 23:35:16.000000200         13.0  2014-11-16 23:35:16 UTC   \n",
      "51142023 2013-02-14 19:20:00.000000104         13.5  2013-02-14 19:20:00 UTC   \n",
      "50395300 2012-01-16 01:46:00.000000660          3.7  2012-01-16 01:46:00 UTC   \n",
      "\n",
      "          pickup_longitude  pickup_latitude  dropoff_longitude  \\\n",
      "10478479        -73.953323        40.778532         -73.953375   \n",
      "2240033         -73.985542        40.738333         -74.003350   \n",
      "24966385        -73.999945        40.718097         -73.999239   \n",
      "38721384        -73.974533        40.756237         -73.923149   \n",
      "41464765        -73.952835        40.786351         -73.974022   \n",
      "...                    ...              ...                ...   \n",
      "35812679        -73.977242        40.754917         -74.004315   \n",
      "24158073        -73.973442        40.748370         -74.003832   \n",
      "36392851        -73.953155        40.802273         -73.976810   \n",
      "51142023        -73.975975        40.750337         -73.990305   \n",
      "50395300        -73.914437        40.764667         -73.919882   \n",
      "\n",
      "          dropoff_latitude  passenger_count  trip_distance_miles  \\\n",
      "10478479         40.772505                1             0.416460   \n",
      "2240033          40.738935                1             0.933263   \n",
      "24966385         40.723103                1             0.347873   \n",
      "38721384         40.867210                1             8.125229   \n",
      "41464765         40.762765                1             1.971073   \n",
      "...                    ...              ...                  ...   \n",
      "35812679         40.712780                1             3.238291   \n",
      "24158073         40.750845                1             1.599968   \n",
      "36392851         40.758330                1             3.278917   \n",
      "51142023         40.719272                2             2.273866   \n",
      "50395300         40.757875                1             0.549057   \n",
      "\n",
      "          log_trip_distance pickup_date  pickup_hour  pickup_dayofweek  \n",
      "10478479           0.348161  2010-01-16           20                 5  \n",
      "2240033            0.659209  2010-09-22           23                 2  \n",
      "24966385           0.298528  2013-10-17           18                 3  \n",
      "38721384           2.211043  2015-06-09           19                 1  \n",
      "41464765           1.088923  2012-05-01            7                 1  \n",
      "...                     ...         ...          ...               ...  \n",
      "35812679           1.444160  2014-10-26           13                 6  \n",
      "24158073           0.955499  2012-08-04           22                 5  \n",
      "36392851           1.453700  2014-11-16           23                 6  \n",
      "51142023           1.185971  2013-02-14           19                 3  \n",
      "50395300           0.437646  2012-01-16            1                 0  \n",
      "\n",
      "[49790 rows x 13 columns]\n"
     ]
    }
   ],
   "source": [
    "import pandas as pd\n",
    "\n",
    "# 문자열을 datetime 형식으로 변환\n",
    "df_sample[\"key\"] = pd.to_datetime(df_sample[\"key\"])\n",
    "\n",
    "# 날짜 (YYYY-MM-DD) 추출\n",
    "df_sample[\"pickup_date\"] = df_sample[\"key\"].dt.date  \n",
    "\n",
    "# 시간 (Hour) 추출\n",
    "df_sample[\"pickup_hour\"] = df_sample[\"key\"].dt.hour  \n",
    "\n",
    "# 요일을 숫자로 변환 (0=월요일, 6=일요일)\n",
    "df_sample[\"pickup_dayofweek\"] = df_sample[\"key\"].dt.dayofweek  \n",
    "\n",
    "# 결과 출력\n",
    "print(df_sample)"
   ]
  },
  {
   "cell_type": "code",
   "execution_count": 47,
   "id": "aab71a18-c57b-4698-986b-e96163e75dee",
   "metadata": {},
   "outputs": [
    {
     "name": "stdout",
     "output_type": "stream",
     "text": [
      "Requirement already satisfied: statsmodels in c:\\users\\302-24\\appdata\\local\\packages\\pythonsoftwarefoundation.python.3.11_qbz5n2kfra8p0\\localcache\\local-packages\\python311\\site-packages (0.14.4)\n",
      "Requirement already satisfied: numpy<3,>=1.22.3 in c:\\users\\302-24\\appdata\\local\\packages\\pythonsoftwarefoundation.python.3.11_qbz5n2kfra8p0\\localcache\\local-packages\\python311\\site-packages (from statsmodels) (2.2.3)\n",
      "Requirement already satisfied: scipy!=1.9.2,>=1.8 in c:\\users\\302-24\\appdata\\local\\packages\\pythonsoftwarefoundation.python.3.11_qbz5n2kfra8p0\\localcache\\local-packages\\python311\\site-packages (from statsmodels) (1.15.2)\n",
      "Requirement already satisfied: pandas!=2.1.0,>=1.4 in c:\\users\\302-24\\appdata\\local\\packages\\pythonsoftwarefoundation.python.3.11_qbz5n2kfra8p0\\localcache\\local-packages\\python311\\site-packages (from statsmodels) (2.2.3)\n",
      "Requirement already satisfied: patsy>=0.5.6 in c:\\users\\302-24\\appdata\\local\\packages\\pythonsoftwarefoundation.python.3.11_qbz5n2kfra8p0\\localcache\\local-packages\\python311\\site-packages (from statsmodels) (1.0.1)\n",
      "Requirement already satisfied: packaging>=21.3 in c:\\users\\302-24\\appdata\\local\\packages\\pythonsoftwarefoundation.python.3.11_qbz5n2kfra8p0\\localcache\\local-packages\\python311\\site-packages (from statsmodels) (24.2)\n",
      "Requirement already satisfied: python-dateutil>=2.8.2 in c:\\users\\302-24\\appdata\\local\\packages\\pythonsoftwarefoundation.python.3.11_qbz5n2kfra8p0\\localcache\\local-packages\\python311\\site-packages (from pandas!=2.1.0,>=1.4->statsmodels) (2.9.0.post0)\n",
      "Requirement already satisfied: pytz>=2020.1 in c:\\users\\302-24\\appdata\\local\\packages\\pythonsoftwarefoundation.python.3.11_qbz5n2kfra8p0\\localcache\\local-packages\\python311\\site-packages (from pandas!=2.1.0,>=1.4->statsmodels) (2025.1)\n",
      "Requirement already satisfied: tzdata>=2022.7 in c:\\users\\302-24\\appdata\\local\\packages\\pythonsoftwarefoundation.python.3.11_qbz5n2kfra8p0\\localcache\\local-packages\\python311\\site-packages (from pandas!=2.1.0,>=1.4->statsmodels) (2025.1)\n",
      "Requirement already satisfied: six>=1.5 in c:\\users\\302-24\\appdata\\local\\packages\\pythonsoftwarefoundation.python.3.11_qbz5n2kfra8p0\\localcache\\local-packages\\python311\\site-packages (from python-dateutil>=2.8.2->pandas!=2.1.0,>=1.4->statsmodels) (1.17.0)\n",
      "Note: you may need to restart the kernel to use updated packages.\n"
     ]
    }
   ],
   "source": [
    "pip install statsmodels"
   ]
  },
  {
   "cell_type": "code",
   "execution_count": 48,
   "id": "4c39e7ad-4ab6-4a84-a895-9e4b9839f36c",
   "metadata": {},
   "outputs": [
    {
     "name": "stdout",
     "output_type": "stream",
     "text": [
      "Requirement already satisfied: scikit-learn in c:\\users\\302-24\\appdata\\local\\packages\\pythonsoftwarefoundation.python.3.11_qbz5n2kfra8p0\\localcache\\local-packages\\python311\\site-packages (1.6.1)\n",
      "Requirement already satisfied: numpy>=1.19.5 in c:\\users\\302-24\\appdata\\local\\packages\\pythonsoftwarefoundation.python.3.11_qbz5n2kfra8p0\\localcache\\local-packages\\python311\\site-packages (from scikit-learn) (2.2.3)\n",
      "Requirement already satisfied: scipy>=1.6.0 in c:\\users\\302-24\\appdata\\local\\packages\\pythonsoftwarefoundation.python.3.11_qbz5n2kfra8p0\\localcache\\local-packages\\python311\\site-packages (from scikit-learn) (1.15.2)\n",
      "Requirement already satisfied: joblib>=1.2.0 in c:\\users\\302-24\\appdata\\local\\packages\\pythonsoftwarefoundation.python.3.11_qbz5n2kfra8p0\\localcache\\local-packages\\python311\\site-packages (from scikit-learn) (1.4.2)\n",
      "Requirement already satisfied: threadpoolctl>=3.1.0 in c:\\users\\302-24\\appdata\\local\\packages\\pythonsoftwarefoundation.python.3.11_qbz5n2kfra8p0\\localcache\\local-packages\\python311\\site-packages (from scikit-learn) (3.6.0)\n",
      "Note: you may need to restart the kernel to use updated packages.\n"
     ]
    }
   ],
   "source": [
    "pip install scikit-learn"
   ]
  },
  {
   "cell_type": "code",
   "execution_count": 73,
   "id": "cc50b7b2-c50d-42d9-a8e3-cb6c608a30be",
   "metadata": {},
   "outputs": [],
   "source": [
    "import seaborn as sns"
   ]
  },
  {
   "cell_type": "code",
   "execution_count": 70,
   "id": "ab317620-a3da-44e8-aee2-a27220874450",
   "metadata": {
    "scrolled": true
   },
   "outputs": [
    {
     "name": "stdout",
     "output_type": "stream",
     "text": [
      "Sklearn 선형 회귀 결과\n",
      " - 기울기 (Slope): [ 9.33788327e+00  6.43338617e-03  5.49769481e-03 -5.16286062e-02]\n",
      " - 절편 (Intercept): 2.4417\n",
      "Statsmodels OLS 결과\n",
      "                            OLS Regression Results                            \n",
      "==============================================================================\n",
      "Dep. Variable:            fare_amount   R-squared:                       0.389\n",
      "Model:                            OLS   Adj. R-squared:                  0.389\n",
      "Method:                 Least Squares   F-statistic:                     7941.\n",
      "Date:                Wed, 19 Mar 2025   Prob (F-statistic):               0.00\n",
      "Time:                        11:03:50   Log-Likelihood:            -1.7044e+05\n",
      "No. Observations:               49790   AIC:                         3.409e+05\n",
      "Df Residuals:                   49785   BIC:                         3.409e+05\n",
      "Df Model:                           4                                         \n",
      "Covariance Type:            nonrobust                                         \n",
      "=====================================================================================\n",
      "                        coef    std err          t      P>|t|      [0.025      0.975]\n",
      "-------------------------------------------------------------------------------------\n",
      "const                 2.6146      0.115     22.749      0.000       2.389       2.840\n",
      "log_trip_distance     9.1839      0.052    178.208      0.000       9.083       9.285\n",
      "passenger_count      -0.0004      0.026     -0.017      0.986      -0.051       0.050\n",
      "pickup_hour           0.0055      0.005      1.073      0.283      -0.005       0.016\n",
      "pickup_dayofweek     -0.0565      0.017     -3.300      0.001      -0.090      -0.023\n",
      "==============================================================================\n",
      "Omnibus:                    29876.936   Durbin-Watson:                   1.997\n",
      "Prob(Omnibus):                  0.000   Jarque-Bera (JB):          5039229.129\n",
      "Skew:                           1.859   Prob(JB):                         0.00\n",
      "Kurtosis:                      52.145   Cond. No.                         54.4\n",
      "==============================================================================\n",
      "\n",
      "Notes:\n",
      "[1] Standard Errors assume that the covariance matrix of the errors is correctly specified.\n",
      "Sklearn R² Score: 0.3512\n",
      "Statsmodels OLS R² Score: 0.3895\n"
     ]
    }
   ],
   "source": [
    "import numpy as np\n",
    "import pandas as pd\n",
    "import statsmodels.api as sm\n",
    "from sklearn.linear_model import LinearRegression\n",
    "from sklearn.model_selection import train_test_split\n",
    "from sklearn.metrics import r2_score\n",
    "\n",
    "# 독립 변수(X) & 종속 변수(y) 설정\n",
    "X = df_sample[[\"log_trip_distance\", \"passenger_count\", \"pickup_hour\", \"pickup_dayofweek\"]]\n",
    "y = df_sample[\"fare_amount\"]\n",
    "\n",
    "# 데이터 분리 (학습 & 테스트 데이터 80:20 비율)\n",
    "X_train, X_test, y_train, y_test = train_test_split(X, y, test_size=0.2, random_state=42)\n",
    "\n",
    "# Scikit-learn 선형 회귀 모델 학습\n",
    "lr_model = LinearRegression()\n",
    "lr_model.fit(X_train, y_train)\n",
    "\n",
    "# 이상치 제거\n",
    "df_filtered = df_sample[df_sample[\"trip_distance_miles\"] > 20]\n",
    "# 예측값 계산\n",
    "y_pred_sklearn = lr_model.predict(X_test)\n",
    "\n",
    "# 기울기 & 절편 출력\n",
    "slope_sklearn = lr_model.coef_\n",
    "intercept_sklearn = lr_model.intercept_\n",
    "\n",
    "print(f\"Sklearn 선형 회귀 결과\")\n",
    "print(f\" - 기울기 (Slope): {slope_sklearn}\")\n",
    "print(f\" - 절편 (Intercept): {intercept_sklearn:.4f}\")\n",
    "\n",
    "# Statsmodels OLS 학습\n",
    "X_with_const = sm.add_constant(X)  # OLS에서는 절편을 직접 추가해야 함\n",
    "ols_model = sm.OLS(y, X_with_const).fit()\n",
    "\n",
    "# OLS 예측값 계산\n",
    "y_pred_ols = ols_model.predict(X_with_const)\n",
    "\n",
    "# OLS 모델 결과 출력\n",
    "print(\"Statsmodels OLS 결과\")\n",
    "print(ols_model.summary())\n",
    "\n",
    "# 모델 성능 평가 (R² Score로 상관계수 평)\n",
    "r2_sklearn = r2_score(y_test, y_pred_sklearn)\n",
    "r2_ols = r2_score(y, y_pred_ols)\n",
    "\n",
    "print(f\"Sklearn R² Score: {r2_sklearn:.4f}\")\n",
    "print(f\"Statsmodels OLS R² Score: {r2_ols:.4f}\")"
   ]
  },
  {
   "cell_type": "code",
   "execution_count": 75,
   "id": "c6cf664b-f6d9-43fe-bda9-f22b36ac8c99",
   "metadata": {},
   "outputs": [
    {
     "ename": "KeyError",
     "evalue": "'fare_actual'",
     "output_type": "error",
     "traceback": [
      "\u001b[31m---------------------------------------------------------------------------\u001b[39m",
      "\u001b[31mKeyError\u001b[39m                                  Traceback (most recent call last)",
      "\u001b[36mFile \u001b[39m\u001b[32m~\\AppData\\Local\\Packages\\PythonSoftwareFoundation.Python.3.11_qbz5n2kfra8p0\\LocalCache\\local-packages\\Python311\\site-packages\\pandas\\core\\indexes\\base.py:3805\u001b[39m, in \u001b[36mIndex.get_loc\u001b[39m\u001b[34m(self, key)\u001b[39m\n\u001b[32m   3804\u001b[39m \u001b[38;5;28;01mtry\u001b[39;00m:\n\u001b[32m-> \u001b[39m\u001b[32m3805\u001b[39m     \u001b[38;5;28;01mreturn\u001b[39;00m \u001b[38;5;28;43mself\u001b[39;49m\u001b[43m.\u001b[49m\u001b[43m_engine\u001b[49m\u001b[43m.\u001b[49m\u001b[43mget_loc\u001b[49m\u001b[43m(\u001b[49m\u001b[43mcasted_key\u001b[49m\u001b[43m)\u001b[49m\n\u001b[32m   3806\u001b[39m \u001b[38;5;28;01mexcept\u001b[39;00m \u001b[38;5;167;01mKeyError\u001b[39;00m \u001b[38;5;28;01mas\u001b[39;00m err:\n",
      "\u001b[36mFile \u001b[39m\u001b[32mindex.pyx:167\u001b[39m, in \u001b[36mpandas._libs.index.IndexEngine.get_loc\u001b[39m\u001b[34m()\u001b[39m\n",
      "\u001b[36mFile \u001b[39m\u001b[32mindex.pyx:196\u001b[39m, in \u001b[36mpandas._libs.index.IndexEngine.get_loc\u001b[39m\u001b[34m()\u001b[39m\n",
      "\u001b[36mFile \u001b[39m\u001b[32mpandas\\\\_libs\\\\hashtable_class_helper.pxi:7081\u001b[39m, in \u001b[36mpandas._libs.hashtable.PyObjectHashTable.get_item\u001b[39m\u001b[34m()\u001b[39m\n",
      "\u001b[36mFile \u001b[39m\u001b[32mpandas\\\\_libs\\\\hashtable_class_helper.pxi:7089\u001b[39m, in \u001b[36mpandas._libs.hashtable.PyObjectHashTable.get_item\u001b[39m\u001b[34m()\u001b[39m\n",
      "\u001b[31mKeyError\u001b[39m: 'fare_actual'",
      "\nThe above exception was the direct cause of the following exception:\n",
      "\u001b[31mKeyError\u001b[39m                                  Traceback (most recent call last)",
      "\u001b[36mCell\u001b[39m\u001b[36m \u001b[39m\u001b[32mIn[75]\u001b[39m\u001b[32m, line 17\u001b[39m\n\u001b[32m     15\u001b[39m \u001b[38;5;28;01mfor\u001b[39;00m i, feature \u001b[38;5;129;01min\u001b[39;00m \u001b[38;5;28menumerate\u001b[39m(features):\n\u001b[32m     16\u001b[39m     row, col = i // \u001b[32m2\u001b[39m, i % \u001b[32m2\u001b[39m\n\u001b[32m---> \u001b[39m\u001b[32m17\u001b[39m     sns.regplot(x=df_sample[feature], y=\u001b[43mdf_sample\u001b[49m\u001b[43m[\u001b[49m\u001b[33;43m\"\u001b[39;49m\u001b[33;43mfare_actual\u001b[39;49m\u001b[33;43m\"\u001b[39;49m\u001b[43m]\u001b[49m, ax=axes[row, col], line_kws={\u001b[33m\"\u001b[39m\u001b[33mcolor\u001b[39m\u001b[33m\"\u001b[39m: \u001b[33m\"\u001b[39m\u001b[33mred\u001b[39m\u001b[33m\"\u001b[39m})\n\u001b[32m     18\u001b[39m     axes[row, col].set_title(\u001b[33mf\u001b[39m\u001b[33m\"\u001b[39m\u001b[38;5;132;01m{\u001b[39;00mtitles[i]\u001b[38;5;132;01m}\u001b[39;00m\u001b[33m vs. Fare Amount\u001b[39m\u001b[33m\"\u001b[39m)\n\u001b[32m     20\u001b[39m plt.tight_layout()\n",
      "\u001b[36mFile \u001b[39m\u001b[32m~\\AppData\\Local\\Packages\\PythonSoftwareFoundation.Python.3.11_qbz5n2kfra8p0\\LocalCache\\local-packages\\Python311\\site-packages\\pandas\\core\\frame.py:4102\u001b[39m, in \u001b[36mDataFrame.__getitem__\u001b[39m\u001b[34m(self, key)\u001b[39m\n\u001b[32m   4100\u001b[39m \u001b[38;5;28;01mif\u001b[39;00m \u001b[38;5;28mself\u001b[39m.columns.nlevels > \u001b[32m1\u001b[39m:\n\u001b[32m   4101\u001b[39m     \u001b[38;5;28;01mreturn\u001b[39;00m \u001b[38;5;28mself\u001b[39m._getitem_multilevel(key)\n\u001b[32m-> \u001b[39m\u001b[32m4102\u001b[39m indexer = \u001b[38;5;28;43mself\u001b[39;49m\u001b[43m.\u001b[49m\u001b[43mcolumns\u001b[49m\u001b[43m.\u001b[49m\u001b[43mget_loc\u001b[49m\u001b[43m(\u001b[49m\u001b[43mkey\u001b[49m\u001b[43m)\u001b[49m\n\u001b[32m   4103\u001b[39m \u001b[38;5;28;01mif\u001b[39;00m is_integer(indexer):\n\u001b[32m   4104\u001b[39m     indexer = [indexer]\n",
      "\u001b[36mFile \u001b[39m\u001b[32m~\\AppData\\Local\\Packages\\PythonSoftwareFoundation.Python.3.11_qbz5n2kfra8p0\\LocalCache\\local-packages\\Python311\\site-packages\\pandas\\core\\indexes\\base.py:3812\u001b[39m, in \u001b[36mIndex.get_loc\u001b[39m\u001b[34m(self, key)\u001b[39m\n\u001b[32m   3807\u001b[39m     \u001b[38;5;28;01mif\u001b[39;00m \u001b[38;5;28misinstance\u001b[39m(casted_key, \u001b[38;5;28mslice\u001b[39m) \u001b[38;5;129;01mor\u001b[39;00m (\n\u001b[32m   3808\u001b[39m         \u001b[38;5;28misinstance\u001b[39m(casted_key, abc.Iterable)\n\u001b[32m   3809\u001b[39m         \u001b[38;5;129;01mand\u001b[39;00m \u001b[38;5;28many\u001b[39m(\u001b[38;5;28misinstance\u001b[39m(x, \u001b[38;5;28mslice\u001b[39m) \u001b[38;5;28;01mfor\u001b[39;00m x \u001b[38;5;129;01min\u001b[39;00m casted_key)\n\u001b[32m   3810\u001b[39m     ):\n\u001b[32m   3811\u001b[39m         \u001b[38;5;28;01mraise\u001b[39;00m InvalidIndexError(key)\n\u001b[32m-> \u001b[39m\u001b[32m3812\u001b[39m     \u001b[38;5;28;01mraise\u001b[39;00m \u001b[38;5;167;01mKeyError\u001b[39;00m(key) \u001b[38;5;28;01mfrom\u001b[39;00m\u001b[38;5;250m \u001b[39m\u001b[34;01merr\u001b[39;00m\n\u001b[32m   3813\u001b[39m \u001b[38;5;28;01mexcept\u001b[39;00m \u001b[38;5;167;01mTypeError\u001b[39;00m:\n\u001b[32m   3814\u001b[39m     \u001b[38;5;66;03m# If we have a listlike key, _check_indexing_error will raise\u001b[39;00m\n\u001b[32m   3815\u001b[39m     \u001b[38;5;66;03m#  InvalidIndexError. Otherwise we fall through and re-raise\u001b[39;00m\n\u001b[32m   3816\u001b[39m     \u001b[38;5;66;03m#  the TypeError.\u001b[39;00m\n\u001b[32m   3817\u001b[39m     \u001b[38;5;28mself\u001b[39m._check_indexing_error(key)\n",
      "\u001b[31mKeyError\u001b[39m: 'fare_actual'"
     ]
    },
    {
     "data": {
      "image/png": "[encoded data removed]",
      "text/plain": [
       "<Figure size 1200x1000 with 4 Axes>"
      ]
     },
     "metadata": {},
     "output_type": "display_data"
    }
   ],
   "source": [
    "# 회귀식 계수 (가정)\n",
    "coef = [9.33788327e+00, 6.43338617e-03, 5.49769481e-03, -5.16286062e-02]\n",
    "intercept = 2.4417\n",
    "\n",
    "df_sample[\"fare_predicted\"] = (coef[0] * df_sample[\"log_trip_distance\"] +\n",
    "                        coef[1] * df_sample[\"passenger_count\"] +\n",
    "                        coef[2] * df_sample[\"pickup_hour\"] +\n",
    "                        coef[3] * df_sample[\"pickup_dayofweek\"] + intercept)\n",
    "\n",
    "# 1️X 변수 vs. Y (실제 요금) 산점도 + 회귀선\n",
    "fig, axes = plt.subplots(2, 2, figsize=(12, 10))\n",
    "features = [\"log_trip_distance\", \"passenger_count\", \"pickup_hour\", \"pickup_dayofweek\"]\n",
    "titles = [\"Log Trip Distance\", \"Passenger Count\", \"Pickup Hour\", \"Pickup Day of Week\"]\n",
    "\n",
    "for i, feature in enumerate(features):\n",
    "    row, col = i // 2, i % 2\n",
    "    sns.regplot(x=df_sample[feature], y=df_sample[\"fare_actual\"], ax=axes[row, col], line_kws={\"color\": \"red\"})\n",
    "    axes[row, col].set_title(f\"{titles[i]} vs. Fare Amount\")\n",
    "\n",
    "plt.tight_layout()\n",
    "plt.show()"
   ]
  },
  {
   "cell_type": "code",
   "execution_count": 25,
   "id": "d4ab5eda-0682-45ea-89f4-3ee77f6af200",
   "metadata": {},
   "outputs": [
    {
     "name": "stdout",
     "output_type": "stream",
     "text": [
      "기울기 (Slope): 13.4328\n",
      "절편 (Intercept): -1.3450\n",
      "          log_trip_distance  fare_amount  Predicted_Fare\n",
      "10478479           0.348026          3.3        3.329963\n",
      "2240033            0.659156          6.5        7.509305\n",
      "24966385           0.298370          5.0        2.662946\n",
      "38721384           2.211043         40.5       28.355457\n",
      "41464765           1.088899          7.7       13.281949\n",
      "37752606           0.389698          4.0        3.889738\n",
      "45028673           0.592351          6.5        6.611918\n",
      "21489360           1.181236         13.0       14.522286\n",
      "22628060           1.646931         16.1       20.777866\n",
      "2187925            0.680108          5.7        7.790744\n"
     ]
    }
   ],
   "source": [
    "# 회귀 계수(기울기)와 절편 출력\n",
    "df_filtered = df_filtered.copy()  # 복사본 생성\n",
    "df_filtered[\"Predicted_Fare\"] = y_pred_log\n",
    "\n",
    "slope = lr_model_log.coef_[0]  # 기울기\n",
    "intercept = lr_model_log.intercept_  # 절편\n",
    "print(f\"기울기 (Slope): {slope:.4f}\")\n",
    "print(f\"절편 (Intercept): {intercept:.4f}\")\n",
    "\n",
    "# 예측값 출력 (처음 10개만)\n",
    "df_filtered[\"Predicted_Fare\"] = y_pred_log\n",
    "print(df_filtered[[\"log_trip_distance\", \"fare_amount\", \"Predicted_Fare\"]].head(10))"
   ]
  },
  {
   "cell_type": "code",
   "execution_count": null,
   "id": "8a11ef62-2245-4e23-a88a-d2562aba4fde",
   "metadata": {},
   "outputs": [],
   "source": []
  }
 ],
 "metadata": {
  "kernelspec": {
   "display_name": "Python 3 (ipykernel)",
   "language": "python",
   "name": "python3"
  },
  "language_info": {
   "codemirror_mode": {
    "name": "ipython",
    "version": 3
   },
   "file_extension": ".py",
   "mimetype": "text/x-python",
   "name": "python",
   "nbconvert_exporter": "python",
   "pygments_lexer": "ipython3",
   "version": "3.11.9"
  }
 },
 "nbformat": 4,
 "nbformat_minor": 5
}
