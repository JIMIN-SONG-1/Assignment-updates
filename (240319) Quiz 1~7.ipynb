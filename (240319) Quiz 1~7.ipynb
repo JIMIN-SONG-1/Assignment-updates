{
 "cells": [
  {
   "cell_type": "code",
   "execution_count": 1,
   "id": "3e2bc927-afb5-48bc-af9c-416398c74f10",
   "metadata": {},
   "outputs": [
    {
     "name": "stdout",
     "output_type": "stream",
     "text": [
      "24\n"
     ]
    }
   ],
   "source": [
    "# 1번 문제\n",
    "def fac(n): \n",
    "    if n == 0:\n",
    "        return 1\n",
    "    if n == 1:\n",
    "        return 1\n",
    "    else:\n",
    "        return n * fac(n-1)\n",
    "    \n",
    "    return \n",
    "    \n",
    "# 4! 계산\n",
    "print(fac(4))"
   ]
  },
  {
   "cell_type": "code",
   "execution_count": 2,
   "id": "2f245630-1054-46fb-b99a-3f8a213418de",
   "metadata": {},
   "outputs": [
    {
     "name": "stdout",
     "output_type": "stream",
     "text": [
      "[('Jennie', 'Rose'), ('Jennie', 'Lisa'), ('Jennie', 'Jisoo'), ('Jennie', 'Karina'), ('Jennie', 'Winter'), ('Rose', 'Jennie'), ('Rose', 'Lisa'), ('Rose', 'Jisoo'), ('Rose', 'Karina'), ('Rose', 'Winter'), ('Lisa', 'Jennie'), ('Lisa', 'Rose'), ('Lisa', 'Jisoo'), ('Lisa', 'Karina'), ('Lisa', 'Winter'), ('Jisoo', 'Jennie'), ('Jisoo', 'Rose'), ('Jisoo', 'Lisa'), ('Jisoo', 'Karina'), ('Jisoo', 'Winter'), ('Karina', 'Jennie'), ('Karina', 'Rose'), ('Karina', 'Lisa'), ('Karina', 'Jisoo'), ('Karina', 'Winter'), ('Winter', 'Jennie'), ('Winter', 'Rose'), ('Winter', 'Lisa'), ('Winter', 'Jisoo'), ('Winter', 'Karina')]\n",
      "30\n"
     ]
    }
   ],
   "source": [
    "# 2번 문제\n",
    "from itertools import permutations \n",
    "from itertools import combinations\n",
    "\n",
    "# 순열 : 6명 수강생 중 2명에게 순위별 상품을 주는 경우의 수 \n",
    "rank_per = list(permutations([\"Jennie\", \"Rose\", \"Lisa\", \"Jisoo\", \"Karina\", \"Winter\"], 2))\n",
    "rank_per_num = len(rank_per)\n",
    "\n",
    "print(rank_per)\n",
    "print(rank_per_num)"
   ]
  },
  {
   "cell_type": "code",
   "execution_count": 4,
   "id": "f2f6e172-5591-4d36-a692-66713ccb7a00",
   "metadata": {},
   "outputs": [
    {
     "name": "stdout",
     "output_type": "stream",
     "text": [
      "[('Jennie', 'Rose'), ('Jennie', 'Lisa'), ('Jennie', 'Jisoo'), ('Jennie', 'Karina'), ('Jennie', 'Winter'), ('Rose', 'Lisa'), ('Rose', 'Jisoo'), ('Rose', 'Karina'), ('Rose', 'Winter'), ('Lisa', 'Jisoo'), ('Lisa', 'Karina'), ('Lisa', 'Winter'), ('Jisoo', 'Karina'), ('Jisoo', 'Winter'), ('Karina', 'Winter')]\n",
      "15\n"
     ]
    }
   ],
   "source": [
    "# 3번 문제\n",
    "from itertools import permutations \n",
    "from itertools import combinations\n",
    "\n",
    "# 조합 : 6명 수강생 중 2명에게 순위 상관없이 상품을 주는 경우의 수 \n",
    "rank_com = list(combinations([\"Jennie\", \"Rose\", \"Lisa\", \"Jisoo\", \"Karina\", \"Winter\"], 2))\n",
    "rank_com_num = len(rank_com)\n",
    "\n",
    "print(rank_com)\n",
    "print(rank_com_num)"
   ]
  },
  {
   "cell_type": "code",
   "execution_count": 5,
   "id": "296263e7-0faf-4764-8d8d-89fbbe28ce8f",
   "metadata": {},
   "outputs": [
    {
     "name": "stdout",
     "output_type": "stream",
     "text": [
      "[('A', 'A', 'A'), ('A', 'A', 'B'), ('A', 'A', 'C'), ('A', 'A', 'D'), ('A', 'A', 'E'), ('A', 'B', 'A'), ('A', 'B', 'B'), ('A', 'B', 'C'), ('A', 'B', 'D'), ('A', 'B', 'E'), ('A', 'C', 'A'), ('A', 'C', 'B'), ('A', 'C', 'C'), ('A', 'C', 'D'), ('A', 'C', 'E'), ('A', 'D', 'A'), ('A', 'D', 'B'), ('A', 'D', 'C'), ('A', 'D', 'D'), ('A', 'D', 'E'), ('A', 'E', 'A'), ('A', 'E', 'B'), ('A', 'E', 'C'), ('A', 'E', 'D'), ('A', 'E', 'E'), ('B', 'A', 'A'), ('B', 'A', 'B'), ('B', 'A', 'C'), ('B', 'A', 'D'), ('B', 'A', 'E'), ('B', 'B', 'A'), ('B', 'B', 'B'), ('B', 'B', 'C'), ('B', 'B', 'D'), ('B', 'B', 'E'), ('B', 'C', 'A'), ('B', 'C', 'B'), ('B', 'C', 'C'), ('B', 'C', 'D'), ('B', 'C', 'E'), ('B', 'D', 'A'), ('B', 'D', 'B'), ('B', 'D', 'C'), ('B', 'D', 'D'), ('B', 'D', 'E'), ('B', 'E', 'A'), ('B', 'E', 'B'), ('B', 'E', 'C'), ('B', 'E', 'D'), ('B', 'E', 'E'), ('C', 'A', 'A'), ('C', 'A', 'B'), ('C', 'A', 'C'), ('C', 'A', 'D'), ('C', 'A', 'E'), ('C', 'B', 'A'), ('C', 'B', 'B'), ('C', 'B', 'C'), ('C', 'B', 'D'), ('C', 'B', 'E'), ('C', 'C', 'A'), ('C', 'C', 'B'), ('C', 'C', 'C'), ('C', 'C', 'D'), ('C', 'C', 'E'), ('C', 'D', 'A'), ('C', 'D', 'B'), ('C', 'D', 'C'), ('C', 'D', 'D'), ('C', 'D', 'E'), ('C', 'E', 'A'), ('C', 'E', 'B'), ('C', 'E', 'C'), ('C', 'E', 'D'), ('C', 'E', 'E'), ('D', 'A', 'A'), ('D', 'A', 'B'), ('D', 'A', 'C'), ('D', 'A', 'D'), ('D', 'A', 'E'), ('D', 'B', 'A'), ('D', 'B', 'B'), ('D', 'B', 'C'), ('D', 'B', 'D'), ('D', 'B', 'E'), ('D', 'C', 'A'), ('D', 'C', 'B'), ('D', 'C', 'C'), ('D', 'C', 'D'), ('D', 'C', 'E'), ('D', 'D', 'A'), ('D', 'D', 'B'), ('D', 'D', 'C'), ('D', 'D', 'D'), ('D', 'D', 'E'), ('D', 'E', 'A'), ('D', 'E', 'B'), ('D', 'E', 'C'), ('D', 'E', 'D'), ('D', 'E', 'E'), ('E', 'A', 'A'), ('E', 'A', 'B'), ('E', 'A', 'C'), ('E', 'A', 'D'), ('E', 'A', 'E'), ('E', 'B', 'A'), ('E', 'B', 'B'), ('E', 'B', 'C'), ('E', 'B', 'D'), ('E', 'B', 'E'), ('E', 'C', 'A'), ('E', 'C', 'B'), ('E', 'C', 'C'), ('E', 'C', 'D'), ('E', 'C', 'E'), ('E', 'D', 'A'), ('E', 'D', 'B'), ('E', 'D', 'C'), ('E', 'D', 'D'), ('E', 'D', 'E'), ('E', 'E', 'A'), ('E', 'E', 'B'), ('E', 'E', 'C'), ('E', 'E', 'D'), ('E', 'E', 'E')]\n",
      "125\n"
     ]
    }
   ],
   "source": [
    "# 4번 문제\n",
    "from itertools import product\n",
    "from itertools import combinations_with_replacement\n",
    "\n",
    "# 중복순열\n",
    "\n",
    "re_per = list(product(['A', 'B', 'C', 'D', 'E'], repeat = 3))\n",
    "re_per_num = len(re_per)\n",
    "\n",
    "print(re_per)\n",
    "print(re_per_num)"
   ]
  },
  {
   "cell_type": "code",
   "execution_count": 6,
   "id": "39946062-bdff-4852-8f8b-c634d366d7e3",
   "metadata": {},
   "outputs": [
    {
     "name": "stdout",
     "output_type": "stream",
     "text": [
      "[('A', 'A', 'A'), ('A', 'A', 'B'), ('A', 'A', 'C'), ('A', 'A', 'D'), ('A', 'A', 'E'), ('A', 'B', 'B'), ('A', 'B', 'C'), ('A', 'B', 'D'), ('A', 'B', 'E'), ('A', 'C', 'C'), ('A', 'C', 'D'), ('A', 'C', 'E'), ('A', 'D', 'D'), ('A', 'D', 'E'), ('A', 'E', 'E'), ('B', 'B', 'B'), ('B', 'B', 'C'), ('B', 'B', 'D'), ('B', 'B', 'E'), ('B', 'C', 'C'), ('B', 'C', 'D'), ('B', 'C', 'E'), ('B', 'D', 'D'), ('B', 'D', 'E'), ('B', 'E', 'E'), ('C', 'C', 'C'), ('C', 'C', 'D'), ('C', 'C', 'E'), ('C', 'D', 'D'), ('C', 'D', 'E'), ('C', 'E', 'E'), ('D', 'D', 'D'), ('D', 'D', 'E'), ('D', 'E', 'E'), ('E', 'E', 'E')]\n",
      "35\n"
     ]
    }
   ],
   "source": [
    "# 5번 문제\n",
    "from itertools import product\n",
    "from itertools import combinations_with_replacement\n",
    "\n",
    "# 중복조합\n",
    "\n",
    "re_com = list(combinations_with_replacement(['A','B','C','D','E'], 3))\n",
    "re_com_num = len(re_com)\n",
    "\n",
    "print(re_com)\n",
    "print(re_com_num)"
   ]
  },
  {
   "cell_type": "code",
   "execution_count": null,
   "id": "ce1d5280-1176-4699-adfd-1dbac4a8d51b",
   "metadata": {},
   "outputs": [],
   "source": [
    "pip install sympy"
   ]
  },
  {
   "cell_type": "code",
   "execution_count": null,
   "id": "7ebf779b-c011-4666-8ea6-efe7cf8b74c7",
   "metadata": {},
   "outputs": [],
   "source": [
    "from sympy.stats import given, density, Die\n",
    "\n",
    "## Q1. 6개의 면이 있는 주사위 생성\n",
    "Die6 = Die('Die6', 6)\n",
    "Die6_dict = density(Die6).dict\n",
    "print(Die6)\n",
    "print(Die6_dict)\n",
    "\n",
    "\n",
    "## Q2. 3 초과의 면만 나오는 조건을 가진 주사위 생성\n",
    "condi = given(Die6, Die6 > 3)\n",
    "condi_dict = density(condi).dict\n",
    "print(condi)\n",
    "print(condi_dict) "
   ]
  },
  {
   "cell_type": "code",
   "execution_count": null,
   "id": "49352c58-444b-4a6b-81d6-8e80e2050f1e",
   "metadata": {},
   "outputs": [],
   "source": []
  }
 ],
 "metadata": {
  "kernelspec": {
   "display_name": "Python 3 (ipykernel)",
   "language": "python",
   "name": "python3"
  },
  "language_info": {
   "codemirror_mode": {
    "name": "ipython",
    "version": 3
   },
   "file_extension": ".py",
   "mimetype": "text/x-python",
   "name": "python",
   "nbconvert_exporter": "python",
   "pygments_lexer": "ipython3",
   "version": "3.11.9"
  }
 },
 "nbformat": 4,
 "nbformat_minor": 5
}
