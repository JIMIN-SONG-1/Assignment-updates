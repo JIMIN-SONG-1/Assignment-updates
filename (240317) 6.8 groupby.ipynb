{
 "cells": [
  {
   "cell_type": "code",
   "execution_count": 231,
   "id": "34ab3f63-ee3e-4142-a7c0-5d6f662672bc",
   "metadata": {},
   "outputs": [
    {
     "name": "stdout",
     "output_type": "stream",
     "text": [
      "       Date  Act  Breath\n",
      "0  20230102   92      76\n",
      "1  20230102   89      75\n",
      "2  20230102   81      69\n",
      "3  20230103   65      87\n",
      "4  20230104   96      76\n"
     ]
    }
   ],
   "source": [
    "import pandas as pd\n",
    "import numpy as np\n",
    "\n",
    "pd.set_option('display.notebook_repr_html', False)\n",
    "\n",
    "adams_act = pd.DataFrame(\n",
    "                [\n",
    "                  ['20230102', 92, 76],\n",
    "                  ['20230102', 89, 75],\n",
    "                  ['20230102', 81, 69],\n",
    "                  ['20230103', 65, 87],\n",
    "                  ['20230104', 96, 76]\n",
    "                ],\n",
    "                   columns=['Date', 'Act', 'Breath'])\n",
    "print(adams_act)"
   ]
  },
  {
   "cell_type": "code",
   "execution_count": 233,
   "id": "f9ad689b-8819-4fa3-96da-1fdaf097ec94",
   "metadata": {},
   "outputs": [
    {
     "data": {
      "text/plain": [
       "<pandas.core.groupby.generic.DataFrameGroupBy object at 0x0000027D1DF9C2F0>"
      ]
     },
     "execution_count": 233,
     "metadata": {},
     "output_type": "execute_result"
    }
   ],
   "source": [
    "adams_act.groupby('Date')"
   ]
  },
  {
   "cell_type": "code",
   "execution_count": 235,
   "id": "ce1c725f-b117-4673-be9a-9de2479a4885",
   "metadata": {},
   "outputs": [
    {
     "data": {
      "text/plain": [
       "<pandas.core.groupby.generic.SeriesGroupBy object at 0x0000027D1DFF5DC0>"
      ]
     },
     "execution_count": 235,
     "metadata": {},
     "output_type": "execute_result"
    }
   ],
   "source": [
    "adams_act.groupby('Date')['Act']"
   ]
  },
  {
   "cell_type": "code",
   "execution_count": 237,
   "id": "dc705915-436d-4c3d-b0e1-93ba9d25d1d6",
   "metadata": {},
   "outputs": [
    {
     "data": {
      "text/plain": [
       "           Act                                                    Breath  \\\n",
       "         count       mean       std   min   25%   50%   75%   max  count   \n",
       "Date                                                                       \n",
       "20230102   3.0  87.333333  5.686241  81.0  85.0  89.0  90.5  92.0    3.0   \n",
       "20230103   1.0  65.000000       NaN  65.0  65.0  65.0  65.0  65.0    1.0   \n",
       "20230104   1.0  96.000000       NaN  96.0  96.0  96.0  96.0  96.0    1.0   \n",
       "\n",
       "                                                             \n",
       "               mean       std   min   25%   50%   75%   max  \n",
       "Date                                                         \n",
       "20230102  73.333333  3.785939  69.0  72.0  75.0  75.5  76.0  \n",
       "20230103  87.000000       NaN  87.0  87.0  87.0  87.0  87.0  \n",
       "20230104  76.000000       NaN  76.0  76.0  76.0  76.0  76.0  "
      ]
     },
     "execution_count": 237,
     "metadata": {},
     "output_type": "execute_result"
    }
   ],
   "source": [
    "adams_act.groupby('Date').describe()"
   ]
  },
  {
   "cell_type": "code",
   "execution_count": 239,
   "id": "38c725d2-f1c2-46fa-ae49-266946a6ff67",
   "metadata": {},
   "outputs": [
    {
     "data": {
      "text/plain": [
       "          Act  Breath\n",
       "Date                 \n",
       "20230102    3       3\n",
       "20230103    1       1\n",
       "20230104    1       1"
      ]
     },
     "execution_count": 239,
     "metadata": {},
     "output_type": "execute_result"
    }
   ],
   "source": [
    "adams_act.groupby('Date').count()"
   ]
  },
  {
   "cell_type": "code",
   "execution_count": 241,
   "id": "bd17f59a-90b7-46d5-aebf-aefb52255f55",
   "metadata": {},
   "outputs": [
    {
     "data": {
      "text/plain": [
       "Date\n",
       "20230102    3\n",
       "20230103    1\n",
       "20230104    1\n",
       "dtype: int64"
      ]
     },
     "execution_count": 241,
     "metadata": {},
     "output_type": "execute_result"
    }
   ],
   "source": [
    "adams_act.groupby('Date').size()"
   ]
  },
  {
   "cell_type": "code",
   "execution_count": 243,
   "id": "c1acf2fa-9dcd-4ac9-831c-129981afe487",
   "metadata": {},
   "outputs": [
    {
     "data": {
      "text/plain": [
       "       Date  Act  Breath\n",
       "2  20230102   81      69"
      ]
     },
     "execution_count": 243,
     "metadata": {},
     "output_type": "execute_result"
    }
   ],
   "source": [
    "adams_act.groupby('Date').nth(2)"
   ]
  },
  {
   "cell_type": "code",
   "execution_count": 245,
   "id": "b3e61628-ec87-4319-bacb-6c27a82d4c5d",
   "metadata": {},
   "outputs": [
    {
     "data": {
      "text/plain": [
       "Date\n",
       "20230102    262\n",
       "20230103     65\n",
       "20230104     96\n",
       "Name: Act, dtype: int64"
      ]
     },
     "execution_count": 245,
     "metadata": {},
     "output_type": "execute_result"
    }
   ],
   "source": [
    "adams_act.groupby('Date')['Act'].sum()"
   ]
  },
  {
   "cell_type": "code",
   "execution_count": 247,
   "id": "98322a22-aabb-4d33-b914-099f81ded84f",
   "metadata": {},
   "outputs": [
    {
     "data": {
      "text/plain": [
       "          Act  Breath\n",
       "Date                 \n",
       "20230102  262     220\n",
       "20230103   65      87\n",
       "20230104   96      76"
      ]
     },
     "execution_count": 247,
     "metadata": {},
     "output_type": "execute_result"
    }
   ],
   "source": [
    "adams_act.groupby('Date').sum()"
   ]
  },
  {
   "cell_type": "code",
   "execution_count": 249,
   "id": "d1d4d468-d4c1-4ef4-9430-7f355f9a77bf",
   "metadata": {},
   "outputs": [
    {
     "data": {
      "text/plain": [
       "                Act     Breath\n",
       "Date                          \n",
       "20230102  87.333333  73.333333\n",
       "20230103  65.000000  87.000000\n",
       "20230104  96.000000  76.000000"
      ]
     },
     "execution_count": 249,
     "metadata": {},
     "output_type": "execute_result"
    }
   ],
   "source": [
    "adams_act.groupby('Date').mean()"
   ]
  },
  {
   "cell_type": "code",
   "execution_count": 251,
   "id": "984b3aa9-3da9-4908-a60c-32cd58ab6842",
   "metadata": {},
   "outputs": [
    {
     "data": {
      "text/plain": [
       "           Act  Breath\n",
       "Date                  \n",
       "20230102  89.0    75.0\n",
       "20230103  65.0    87.0\n",
       "20230104  96.0    76.0"
      ]
     },
     "execution_count": 251,
     "metadata": {},
     "output_type": "execute_result"
    }
   ],
   "source": [
    "adams_act.groupby('Date').median()"
   ]
  },
  {
   "cell_type": "code",
   "execution_count": 253,
   "id": "d48c7155-95c2-4a8a-9a57-76c20e7696b3",
   "metadata": {},
   "outputs": [
    {
     "data": {
      "text/plain": [
       "          Act  Breath\n",
       "Date                 \n",
       "20230102   81      69\n",
       "20230103   65      87\n",
       "20230104   96      76"
      ]
     },
     "execution_count": 253,
     "metadata": {},
     "output_type": "execute_result"
    }
   ],
   "source": [
    "adams_act.groupby('Date').min()"
   ]
  },
  {
   "cell_type": "code",
   "execution_count": 255,
   "id": "861221f7-a950-4884-903b-565cc8ab6ab8",
   "metadata": {},
   "outputs": [
    {
     "data": {
      "text/plain": [
       "          Act  Breath\n",
       "Date                 \n",
       "20230102   92      76\n",
       "20230103   65      87\n",
       "20230104   96      76"
      ]
     },
     "execution_count": 255,
     "metadata": {},
     "output_type": "execute_result"
    }
   ],
   "source": [
    "adams_act.groupby('Date').max()"
   ]
  },
  {
   "cell_type": "code",
   "execution_count": 259,
   "id": "0e124fe6-7816-470b-a38d-1f9498df12bb",
   "metadata": {},
   "outputs": [
    {
     "data": {
      "text/plain": [
       "         Act                     Breath                    \n",
       "         min max       mean  sum    min max       mean  sum\n",
       "Date                                                       \n",
       "20230102  81  92  87.333333  262     69  76  73.333333  220\n",
       "20230103  65  65  65.000000   65     87  87  87.000000   87\n",
       "20230104  96  96  96.000000   96     76  76  76.000000   76"
      ]
     },
     "execution_count": 259,
     "metadata": {},
     "output_type": "execute_result"
    }
   ],
   "source": [
    "adams_act.groupby('Date').aggregate(['min', 'max', 'mean', 'sum'])"
   ]
  },
  {
   "cell_type": "code",
   "execution_count": 261,
   "id": "636416a5-d156-4460-bfad-e281d90cebb8",
   "metadata": {},
   "outputs": [
    {
     "data": {
      "text/plain": [
       "       Date  Act  Breath\n",
       "0  20230102   92      76\n",
       "1  20230102   89      75\n",
       "2  20230102   81      69"
      ]
     },
     "execution_count": 261,
     "metadata": {},
     "output_type": "execute_result"
    }
   ],
   "source": [
    "def filter_f(a):\n",
    "  return a['Date'].count() > 1\n",
    "\n",
    "adams_act.groupby('Date').filter(filter_f)"
   ]
  },
  {
   "cell_type": "code",
   "execution_count": 263,
   "id": "5a5af663-d885-4351-afd2-b54ef222f8d5",
   "metadata": {},
   "outputs": [
    {
     "data": {
      "text/plain": [
       "   Act  Breath\n",
       "0   92      76\n",
       "1   89      75\n",
       "2   81      69\n",
       "3   65      87\n",
       "4   96      76"
      ]
     },
     "execution_count": 263,
     "metadata": {},
     "output_type": "execute_result"
    }
   ],
   "source": [
    "# Dataframe에서의 filter\n",
    "adams_act.filter(items=['Act', 'Breath'])"
   ]
  },
  {
   "cell_type": "code",
   "execution_count": 265,
   "id": "43bfad2d-ea8b-4e17-abea-09bbed39bffe",
   "metadata": {},
   "outputs": [
    {
     "data": {
      "text/plain": [
       "   Act\n",
       "0   92\n",
       "1   89\n",
       "2   81\n",
       "3   65\n",
       "4   96"
      ]
     },
     "execution_count": 265,
     "metadata": {},
     "output_type": "execute_result"
    }
   ],
   "source": [
    "# Dataframe에서의 filter\n",
    "adams_act.filter(like='Ac')"
   ]
  },
  {
   "cell_type": "code",
   "execution_count": 275,
   "id": "98630910-a9ad-478d-9f07-0fbb1c51699b",
   "metadata": {},
   "outputs": [
    {
     "name": "stderr",
     "output_type": "stream",
     "text": [
      "C:\\Users\\302-24\\anaconda3\\Lib\\site-packages\\numpy\\core\\fromnumeric.py:86: FutureWarning: The behavior of DataFrame.sum with axis=None is deprecated, in a future version this will reduce over both axes and return a scalar. To retain the old behavior, pass axis=0 (or do not pass axis)\n",
      "  return reduction(axis=axis, out=out, **passkwargs)\n",
      "C:\\Users\\302-24\\anaconda3\\Lib\\site-packages\\numpy\\core\\fromnumeric.py:86: FutureWarning: The behavior of DataFrame.sum with axis=None is deprecated, in a future version this will reduce over both axes and return a scalar. To retain the old behavior, pass axis=0 (or do not pass axis)\n",
      "  return reduction(axis=axis, out=out, **passkwargs)\n",
      "C:\\Users\\302-24\\anaconda3\\Lib\\site-packages\\numpy\\core\\fromnumeric.py:86: FutureWarning: The behavior of DataFrame.sum with axis=None is deprecated, in a future version this will reduce over both axes and return a scalar. To retain the old behavior, pass axis=0 (or do not pass axis)\n",
      "  return reduction(axis=axis, out=out, **passkwargs)\n",
      "C:\\Users\\302-24\\AppData\\Local\\Temp\\ipykernel_9552\\4210948215.py:1: DeprecationWarning: DataFrameGroupBy.apply operated on the grouping columns. This behavior is deprecated, and in a future version of pandas the grouping columns will be excluded from the operation. Either pass `include_groups=False` to exclude the groupings or explicitly select the grouping columns after groupby to silence this warning.\n",
      "  adams_act.groupby('Date').apply(np.sum)\n"
     ]
    },
    {
     "data": {
      "text/plain": [
       "                              Date  Act  Breath\n",
       "Date                                           \n",
       "20230102  202301022023010220230102  262     220\n",
       "20230103                  20230103   65      87\n",
       "20230104                  20230104   96      76"
      ]
     },
     "execution_count": 275,
     "metadata": {},
     "output_type": "execute_result"
    }
   ],
   "source": [
    "adams_act.groupby('Date').apply(np.sum)"
   ]
  },
  {
   "cell_type": "code",
   "execution_count": 277,
   "id": "1eeebe04-e985-4dc3-b881-21adf489e3aa",
   "metadata": {},
   "outputs": [
    {
     "data": {
      "text/plain": [
       "               Act  Breath\n",
       "Date                      \n",
       "20230102 0  778688  438976\n",
       "         1  704969  421875\n",
       "         2  531441  328509\n",
       "20230103 3  274625  658503\n",
       "20230104 4  884736  438976"
      ]
     },
     "execution_count": 277,
     "metadata": {},
     "output_type": "execute_result"
    }
   ],
   "source": [
    "def apply_func(a, n):\n",
    "  return a**n\n",
    "\n",
    "adams_act.groupby('Date').apply(apply_func, n=3)"
   ]
  },
  {
   "cell_type": "code",
   "execution_count": 279,
   "id": "d2456ff9-6875-4e9e-844c-7ef198d43433",
   "metadata": {},
   "outputs": [
    {
     "name": "stderr",
     "output_type": "stream",
     "text": [
      "C:\\Users\\302-24\\AppData\\Local\\Temp\\ipykernel_9552\\108174572.py:5: DeprecationWarning: DataFrameGroupBy.apply operated on the grouping columns. This behavior is deprecated, and in a future version of pandas the grouping columns will be excluded from the operation. Either pass `include_groups=False` to exclude the groupings or explicitly select the grouping columns after groupby to silence this warning.\n",
      "  adams_act.groupby('Date').apply(apply_func)\n"
     ]
    },
    {
     "data": {
      "text/plain": [
       "                Date  Act  Breath  Act2\n",
       "Date                                   \n",
       "20230102 0  20230102   92      76  8464\n",
       "         1  20230102   89      75  7921\n",
       "         2  20230102   81      69  6561\n",
       "20230103 3  20230103   65      87  4225\n",
       "20230104 4  20230104   96      76  9216"
      ]
     },
     "execution_count": 279,
     "metadata": {},
     "output_type": "execute_result"
    }
   ],
   "source": [
    "def apply_func(a):\n",
    "  a['Act2'] = a['Act']**2\n",
    "  return a\n",
    "\n",
    "adams_act.groupby('Date').apply(apply_func)"
   ]
  },
  {
   "cell_type": "code",
   "execution_count": 281,
   "id": "4df41cb2-7068-4d2f-a854-432892dc8da3",
   "metadata": {},
   "outputs": [
    {
     "name": "stderr",
     "output_type": "stream",
     "text": [
      "C:\\Users\\302-24\\AppData\\Local\\Temp\\ipykernel_9552\\4232482496.py:2: FutureWarning: DataFrame.applymap has been deprecated. Use DataFrame.map instead.\n",
      "  adams_act_wo_date.applymap(lambda x: x**2)\n"
     ]
    },
    {
     "data": {
      "text/plain": [
       "           Act  Breath\n",
       "Date                  \n",
       "20230102  8464    5776\n",
       "20230102  7921    5625\n",
       "20230102  6561    4761\n",
       "20230103  4225    7569\n",
       "20230104  9216    5776"
      ]
     },
     "execution_count": 281,
     "metadata": {},
     "output_type": "execute_result"
    }
   ],
   "source": [
    "adams_act_wo_date = adams_act.set_index('Date')\n",
    "adams_act_wo_date.applymap(lambda x: x**2)"
   ]
  },
  {
   "cell_type": "code",
   "execution_count": 283,
   "id": "28db5f44-9571-4ca3-af92-75536db02491",
   "metadata": {},
   "outputs": [
    {
     "name": "stderr",
     "output_type": "stream",
     "text": [
      "C:\\Users\\302-24\\AppData\\Local\\Temp\\ipykernel_9552\\1076228857.py:1: FutureWarning: The provided callable <function sum at 0x0000027D0DE00040> is currently using DataFrameGroupBy.sum. In a future version of pandas, the provided callable will be used directly. To keep current behavior pass the string \"sum\" instead.\n",
      "  adams_act.groupby('Date').transform(np.sum)\n"
     ]
    },
    {
     "data": {
      "text/plain": [
       "   Act  Breath\n",
       "0  262     220\n",
       "1  262     220\n",
       "2  262     220\n",
       "3   65      87\n",
       "4   96      76"
      ]
     },
     "execution_count": 283,
     "metadata": {},
     "output_type": "execute_result"
    }
   ],
   "source": [
    "adams_act.groupby('Date').transform(np.sum)"
   ]
  },
  {
   "cell_type": "code",
   "execution_count": null,
   "id": "6d73d5d7-b193-42f1-b9f9-a16b6f362861",
   "metadata": {},
   "outputs": [],
   "source": []
  }
 ],
 "metadata": {
  "kernelspec": {
   "display_name": "Python [conda env:base] *",
   "language": "python",
   "name": "conda-base-py"
  },
  "language_info": {
   "codemirror_mode": {
    "name": "ipython",
    "version": 3
   },
   "file_extension": ".py",
   "mimetype": "text/x-python",
   "name": "python",
   "nbconvert_exporter": "python",
   "pygments_lexer": "ipython3",
   "version": "3.12.7"
  }
 },
 "nbformat": 4,
 "nbformat_minor": 5
}
